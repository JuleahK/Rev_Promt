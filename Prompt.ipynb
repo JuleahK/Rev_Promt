{
 "cells": [
  {
   "cell_type": "code",
   "execution_count": 1,
   "metadata": {},
   "outputs": [],
   "source": [
    "import pandas as pd"
   ]
  },
  {
   "cell_type": "code",
   "execution_count": 2,
   "metadata": {},
   "outputs": [],
   "source": [
    "data = \"Rev/ecom_data.csv\""
   ]
  },
  {
   "cell_type": "code",
   "execution_count": 3,
   "metadata": {},
   "outputs": [
    {
     "data": {
      "text/html": [
       "<div>\n",
       "<style scoped>\n",
       "    .dataframe tbody tr th:only-of-type {\n",
       "        vertical-align: middle;\n",
       "    }\n",
       "\n",
       "    .dataframe tbody tr th {\n",
       "        vertical-align: top;\n",
       "    }\n",
       "\n",
       "    .dataframe thead th {\n",
       "        text-align: right;\n",
       "    }\n",
       "</style>\n",
       "<table border=\"1\" class=\"dataframe\">\n",
       "  <thead>\n",
       "    <tr style=\"text-align: right;\">\n",
       "      <th></th>\n",
       "      <th>SalesOrder</th>\n",
       "      <th>SKU</th>\n",
       "      <th>Description</th>\n",
       "      <th>UnitPrice</th>\n",
       "      <th>CustomerID</th>\n",
       "      <th>Channel</th>\n",
       "      <th>State</th>\n",
       "      <th>InvoiceDay</th>\n",
       "      <th>Sales</th>\n",
       "      <th>Quantity</th>\n",
       "    </tr>\n",
       "  </thead>\n",
       "  <tbody>\n",
       "    <tr>\n",
       "      <th>0</th>\n",
       "      <td>580636</td>\n",
       "      <td>22474</td>\n",
       "      <td>SPACEBOY TV DINNER TRAY</td>\n",
       "      <td>1.95</td>\n",
       "      <td>16746.0</td>\n",
       "      <td>Mailing</td>\n",
       "      <td>IL</td>\n",
       "      <td>2011-12-05</td>\n",
       "      <td>31.20</td>\n",
       "      <td>16.0</td>\n",
       "    </tr>\n",
       "    <tr>\n",
       "      <th>1</th>\n",
       "      <td>581426</td>\n",
       "      <td>70006</td>\n",
       "      <td>LOVE HEART POCKET WARMER</td>\n",
       "      <td>0.79</td>\n",
       "      <td>17757.0</td>\n",
       "      <td>Organic Social</td>\n",
       "      <td>WA</td>\n",
       "      <td>2011-12-08</td>\n",
       "      <td>2.37</td>\n",
       "      <td>3.0</td>\n",
       "    </tr>\n",
       "    <tr>\n",
       "      <th>2</th>\n",
       "      <td>575063</td>\n",
       "      <td>22697</td>\n",
       "      <td>GREEN REGENCY TEACUP AND SAUCER</td>\n",
       "      <td>2.95</td>\n",
       "      <td>16764.0</td>\n",
       "      <td>Display</td>\n",
       "      <td>TX</td>\n",
       "      <td>2011-11-08</td>\n",
       "      <td>8.85</td>\n",
       "      <td>3.0</td>\n",
       "    </tr>\n",
       "    <tr>\n",
       "      <th>3</th>\n",
       "      <td>544065</td>\n",
       "      <td>20726</td>\n",
       "      <td>LUNCH BAG WOODLAND</td>\n",
       "      <td>1.65</td>\n",
       "      <td>14346.0</td>\n",
       "      <td>Organic Social</td>\n",
       "      <td>TX</td>\n",
       "      <td>2011-02-15</td>\n",
       "      <td>13.20</td>\n",
       "      <td>8.0</td>\n",
       "    </tr>\n",
       "    <tr>\n",
       "      <th>4</th>\n",
       "      <td>568896</td>\n",
       "      <td>85049E</td>\n",
       "      <td>SCANDINAVIAN REDS RIBBONS</td>\n",
       "      <td>1.25</td>\n",
       "      <td>16361.0</td>\n",
       "      <td>Store</td>\n",
       "      <td>NY</td>\n",
       "      <td>2011-09-29</td>\n",
       "      <td>52.50</td>\n",
       "      <td>42.0</td>\n",
       "    </tr>\n",
       "    <tr>\n",
       "      <th>...</th>\n",
       "      <td>...</td>\n",
       "      <td>...</td>\n",
       "      <td>...</td>\n",
       "      <td>...</td>\n",
       "      <td>...</td>\n",
       "      <td>...</td>\n",
       "      <td>...</td>\n",
       "      <td>...</td>\n",
       "      <td>...</td>\n",
       "      <td>...</td>\n",
       "    </tr>\n",
       "    <tr>\n",
       "      <th>406824</th>\n",
       "      <td>573774</td>\n",
       "      <td>85099F</td>\n",
       "      <td>JUMBO BAG STRAWBERRY</td>\n",
       "      <td>1.74</td>\n",
       "      <td>16029.0</td>\n",
       "      <td>Store</td>\n",
       "      <td>NM</td>\n",
       "      <td>2011-11-01</td>\n",
       "      <td>1485.96</td>\n",
       "      <td>854.0</td>\n",
       "    </tr>\n",
       "    <tr>\n",
       "      <th>406825</th>\n",
       "      <td>573361</td>\n",
       "      <td>23263</td>\n",
       "      <td>SET OF 3 WOODEN HEART DECORATIONS</td>\n",
       "      <td>1.25</td>\n",
       "      <td>14456.0</td>\n",
       "      <td>Email</td>\n",
       "      <td>OH</td>\n",
       "      <td>2011-10-30</td>\n",
       "      <td>7.50</td>\n",
       "      <td>6.0</td>\n",
       "    </tr>\n",
       "    <tr>\n",
       "      <th>406826</th>\n",
       "      <td>565748</td>\n",
       "      <td>22739</td>\n",
       "      <td>RIBBON REEL CHRISTMAS SOCK BAUBLE</td>\n",
       "      <td>1.65</td>\n",
       "      <td>14156.0</td>\n",
       "      <td>Email</td>\n",
       "      <td>GA</td>\n",
       "      <td>2011-09-06</td>\n",
       "      <td>33.00</td>\n",
       "      <td>20.0</td>\n",
       "    </tr>\n",
       "    <tr>\n",
       "      <th>406827</th>\n",
       "      <td>577504</td>\n",
       "      <td>21733</td>\n",
       "      <td>RED HANGING HEART T-LIGHT HOLDER</td>\n",
       "      <td>2.95</td>\n",
       "      <td>14159.0</td>\n",
       "      <td>SEO</td>\n",
       "      <td>NY</td>\n",
       "      <td>2011-11-20</td>\n",
       "      <td>88.50</td>\n",
       "      <td>30.0</td>\n",
       "    </tr>\n",
       "    <tr>\n",
       "      <th>406828</th>\n",
       "      <td>554085</td>\n",
       "      <td>23208</td>\n",
       "      <td>LUNCH BAG VINTAGE LEAF DESIGN</td>\n",
       "      <td>1.65</td>\n",
       "      <td>16945.0</td>\n",
       "      <td>Organic Social</td>\n",
       "      <td>NC</td>\n",
       "      <td>2011-05-22</td>\n",
       "      <td>13.20</td>\n",
       "      <td>8.0</td>\n",
       "    </tr>\n",
       "  </tbody>\n",
       "</table>\n",
       "<p>406829 rows × 10 columns</p>\n",
       "</div>"
      ],
      "text/plain": [
       "       SalesOrder     SKU                        Description  UnitPrice  \\\n",
       "0          580636   22474            SPACEBOY TV DINNER TRAY       1.95   \n",
       "1          581426   70006           LOVE HEART POCKET WARMER       0.79   \n",
       "2          575063   22697    GREEN REGENCY TEACUP AND SAUCER       2.95   \n",
       "3          544065   20726                 LUNCH BAG WOODLAND       1.65   \n",
       "4          568896  85049E          SCANDINAVIAN REDS RIBBONS       1.25   \n",
       "...           ...     ...                                ...        ...   \n",
       "406824     573774  85099F               JUMBO BAG STRAWBERRY       1.74   \n",
       "406825     573361   23263  SET OF 3 WOODEN HEART DECORATIONS       1.25   \n",
       "406826     565748   22739  RIBBON REEL CHRISTMAS SOCK BAUBLE       1.65   \n",
       "406827     577504   21733   RED HANGING HEART T-LIGHT HOLDER       2.95   \n",
       "406828     554085   23208      LUNCH BAG VINTAGE LEAF DESIGN       1.65   \n",
       "\n",
       "        CustomerID         Channel State  InvoiceDay    Sales  Quantity  \n",
       "0          16746.0         Mailing    IL  2011-12-05    31.20      16.0  \n",
       "1          17757.0  Organic Social    WA  2011-12-08     2.37       3.0  \n",
       "2          16764.0         Display    TX  2011-11-08     8.85       3.0  \n",
       "3          14346.0  Organic Social    TX  2011-02-15    13.20       8.0  \n",
       "4          16361.0           Store    NY  2011-09-29    52.50      42.0  \n",
       "...            ...             ...   ...         ...      ...       ...  \n",
       "406824     16029.0           Store    NM  2011-11-01  1485.96     854.0  \n",
       "406825     14456.0           Email    OH  2011-10-30     7.50       6.0  \n",
       "406826     14156.0           Email    GA  2011-09-06    33.00      20.0  \n",
       "406827     14159.0             SEO    NY  2011-11-20    88.50      30.0  \n",
       "406828     16945.0  Organic Social    NC  2011-05-22    13.20       8.0  \n",
       "\n",
       "[406829 rows x 10 columns]"
      ]
     },
     "execution_count": 3,
     "metadata": {},
     "output_type": "execute_result"
    }
   ],
   "source": [
    "df = pd.read_csv(\"ecom_data.csv\")\n",
    "df"
   ]
  },
  {
   "cell_type": "code",
   "execution_count": null,
   "metadata": {},
   "outputs": [],
   "source": [
    "#PROJECT = 'YOUR-PROJECT-HERE'\n",
    "#DATASET = 'nyc_real_estate'\n",
    "#TABLE = 'residential_sales'\n",
    "#dfr.to_gbq('{}.{}'.format(DATASET, TABLE), PROJECT)"
   ]
  },
  {
   "cell_type": "code",
   "execution_count": null,
   "metadata": {},
   "outputs": [],
   "source": [
    "#import time_series\n",
    "#WINDOW_SIZE = 52  # Weeks.\n",
    "#HORIZON = 4*6 # Predict approximately 6 months into the future.\n",
    "#LABELS_SIZE = 1  # The label will be the price for one week\n",
    "#df = time_series.create_rolling_features_label(sales, window_size=WINDOW_SIZE, pred_offset=HORIZON)\n",
    "\n",
    "# Add date features: year, day of year, month, etc.\n",
    "#df = time_series.add_date_features(df, df.index)"
   ]
  },
  {
   "cell_type": "code",
   "execution_count": 4,
   "metadata": {},
   "outputs": [
    {
     "data": {
      "text/plain": [
       "SalesOrder     0\n",
       "SKU            0\n",
       "Description    0\n",
       "UnitPrice      0\n",
       "CustomerID     0\n",
       "Channel        0\n",
       "State          0\n",
       "InvoiceDay     0\n",
       "Sales          0\n",
       "Quantity       0\n",
       "dtype: int64"
      ]
     },
     "execution_count": 4,
     "metadata": {},
     "output_type": "execute_result"
    }
   ],
   "source": [
    "df.isnull().sum()"
   ]
  },
  {
   "cell_type": "code",
   "execution_count": 5,
   "metadata": {},
   "outputs": [
    {
     "data": {
      "text/plain": [
       "4325"
      ]
     },
     "execution_count": 5,
     "metadata": {},
     "output_type": "execute_result"
    }
   ],
   "source": [
    "df[\"CustomerID\"].nunique()"
   ]
  },
  {
   "cell_type": "code",
   "execution_count": null,
   "metadata": {},
   "outputs": [],
   "source": []
  },
  {
   "cell_type": "code",
   "execution_count": 10,
   "metadata": {},
   "outputs": [
    {
     "data": {
      "text/plain": [
       "CustomerID\n",
       "12346.0      1\n",
       "12347.0    186\n",
       "12348.0     44\n",
       "12349.0     54\n",
       "12350.0     19\n",
       "          ... \n",
       "18280.0      8\n",
       "18281.0      5\n",
       "18282.0     13\n",
       "18283.0    793\n",
       "18287.0     65\n",
       "Name: SalesOrder, Length: 4325, dtype: int64"
      ]
     },
     "execution_count": 10,
     "metadata": {},
     "output_type": "execute_result"
    }
   ],
   "source": [
    "customer_id = df.groupby([\"CustomerID\"]).rolling(90).count()[\"SalesOrder\"]\n",
    "customer_id"
   ]
  },
  {
   "cell_type": "code",
   "execution_count": null,
   "metadata": {},
   "outputs": [],
   "source": [
    "#df = df.set_index([\"CustomerID\"])\n",
    "#per_school_types = school_data_df.set_index([\"CustomerID\"])[\"type\"]\n",
    "#df"
   ]
  },
  {
   "cell_type": "code",
   "execution_count": 7,
   "metadata": {},
   "outputs": [
    {
     "data": {
      "text/plain": [
       "<pandas.core.groupby.generic.DataFrameGroupBy object at 0x000001D638B99AC8>"
      ]
     },
     "execution_count": 7,
     "metadata": {},
     "output_type": "execute_result"
    }
   ],
   "source": [
    "customer_id"
   ]
  },
  {
   "cell_type": "code",
   "execution_count": null,
   "metadata": {},
   "outputs": [],
   "source": []
  },
  {
   "cell_type": "code",
   "execution_count": null,
   "metadata": {},
   "outputs": [],
   "source": []
  },
  {
   "cell_type": "code",
   "execution_count": null,
   "metadata": {},
   "outputs": [],
   "source": []
  },
  {
   "cell_type": "code",
   "execution_count": null,
   "metadata": {},
   "outputs": [],
   "source": []
  },
  {
   "cell_type": "code",
   "execution_count": null,
   "metadata": {},
   "outputs": [],
   "source": []
  },
  {
   "cell_type": "code",
   "execution_count": null,
   "metadata": {},
   "outputs": [],
   "source": [
    "sales = df[\"Sales\"] >= 0.00\n",
    "#passing_math = school_data_complete_df[\"math_score\"] >= 70\n",
    "sales"
   ]
  },
  {
   "cell_type": "code",
   "execution_count": null,
   "metadata": {},
   "outputs": [],
   "source": [
    "sales_df = df[df[\"Sales\"] >= 0.00]\n",
    "sales_df.head()"
   ]
  },
  {
   "cell_type": "code",
   "execution_count": null,
   "metadata": {},
   "outputs": [],
   "source": [
    "sales_count = df[\"Sales\"].count()\n",
    "sales_count"
   ]
  },
  {
   "cell_type": "code",
   "execution_count": null,
   "metadata": {},
   "outputs": [],
   "source": []
  }
 ],
 "metadata": {
  "kernelspec": {
   "display_name": "PythonData",
   "language": "python",
   "name": "pythondata"
  },
  "language_info": {
   "codemirror_mode": {
    "name": "ipython",
    "version": 3
   },
   "file_extension": ".py",
   "mimetype": "text/x-python",
   "name": "python",
   "nbconvert_exporter": "python",
   "pygments_lexer": "ipython3",
   "version": "3.7.9"
  }
 },
 "nbformat": 4,
 "nbformat_minor": 4
}
