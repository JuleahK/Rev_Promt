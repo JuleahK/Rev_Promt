{
 "cells": [
  {
   "cell_type": "code",
   "execution_count": 12,
   "metadata": {},
   "outputs": [],
   "source": [
    "import pandas as pd\n",
    "import matplotlib.pyplot as plt\n",
    "import numpy as np\n",
    "\n"
   ]
  },
  {
   "cell_type": "code",
   "execution_count": 2,
   "metadata": {},
   "outputs": [],
   "source": [
    "data = \"Rev/ecom_data.csv\""
   ]
  },
  {
   "cell_type": "code",
   "execution_count": 3,
   "metadata": {},
   "outputs": [
    {
     "data": {
      "text/html": [
       "<div>\n",
       "<style scoped>\n",
       "    .dataframe tbody tr th:only-of-type {\n",
       "        vertical-align: middle;\n",
       "    }\n",
       "\n",
       "    .dataframe tbody tr th {\n",
       "        vertical-align: top;\n",
       "    }\n",
       "\n",
       "    .dataframe thead th {\n",
       "        text-align: right;\n",
       "    }\n",
       "</style>\n",
       "<table border=\"1\" class=\"dataframe\">\n",
       "  <thead>\n",
       "    <tr style=\"text-align: right;\">\n",
       "      <th></th>\n",
       "      <th>SalesOrder</th>\n",
       "      <th>SKU</th>\n",
       "      <th>Description</th>\n",
       "      <th>UnitPrice</th>\n",
       "      <th>CustomerID</th>\n",
       "      <th>Channel</th>\n",
       "      <th>State</th>\n",
       "      <th>InvoiceDay</th>\n",
       "      <th>Sales</th>\n",
       "      <th>Quantity</th>\n",
       "    </tr>\n",
       "  </thead>\n",
       "  <tbody>\n",
       "    <tr>\n",
       "      <th>0</th>\n",
       "      <td>580636</td>\n",
       "      <td>22474</td>\n",
       "      <td>SPACEBOY TV DINNER TRAY</td>\n",
       "      <td>1.95</td>\n",
       "      <td>16746</td>\n",
       "      <td>Mailing</td>\n",
       "      <td>IL</td>\n",
       "      <td>2011-12-05</td>\n",
       "      <td>31.20</td>\n",
       "      <td>16</td>\n",
       "    </tr>\n",
       "    <tr>\n",
       "      <th>1</th>\n",
       "      <td>581426</td>\n",
       "      <td>70006</td>\n",
       "      <td>LOVE HEART POCKET WARMER</td>\n",
       "      <td>0.79</td>\n",
       "      <td>17757</td>\n",
       "      <td>Organic Social</td>\n",
       "      <td>WA</td>\n",
       "      <td>2011-12-08</td>\n",
       "      <td>2.37</td>\n",
       "      <td>3</td>\n",
       "    </tr>\n",
       "    <tr>\n",
       "      <th>2</th>\n",
       "      <td>575063</td>\n",
       "      <td>22697</td>\n",
       "      <td>GREEN REGENCY TEACUP AND SAUCER</td>\n",
       "      <td>2.95</td>\n",
       "      <td>16764</td>\n",
       "      <td>Display</td>\n",
       "      <td>TX</td>\n",
       "      <td>2011-11-08</td>\n",
       "      <td>8.85</td>\n",
       "      <td>3</td>\n",
       "    </tr>\n",
       "    <tr>\n",
       "      <th>3</th>\n",
       "      <td>544065</td>\n",
       "      <td>20726</td>\n",
       "      <td>LUNCH BAG WOODLAND</td>\n",
       "      <td>1.65</td>\n",
       "      <td>14346</td>\n",
       "      <td>Organic Social</td>\n",
       "      <td>TX</td>\n",
       "      <td>2011-02-15</td>\n",
       "      <td>13.20</td>\n",
       "      <td>8</td>\n",
       "    </tr>\n",
       "    <tr>\n",
       "      <th>4</th>\n",
       "      <td>568896</td>\n",
       "      <td>85049E</td>\n",
       "      <td>SCANDINAVIAN REDS RIBBONS</td>\n",
       "      <td>1.25</td>\n",
       "      <td>16361</td>\n",
       "      <td>Store</td>\n",
       "      <td>NY</td>\n",
       "      <td>2011-09-29</td>\n",
       "      <td>52.50</td>\n",
       "      <td>42</td>\n",
       "    </tr>\n",
       "    <tr>\n",
       "      <th>...</th>\n",
       "      <td>...</td>\n",
       "      <td>...</td>\n",
       "      <td>...</td>\n",
       "      <td>...</td>\n",
       "      <td>...</td>\n",
       "      <td>...</td>\n",
       "      <td>...</td>\n",
       "      <td>...</td>\n",
       "      <td>...</td>\n",
       "      <td>...</td>\n",
       "    </tr>\n",
       "    <tr>\n",
       "      <th>406824</th>\n",
       "      <td>573774</td>\n",
       "      <td>85099F</td>\n",
       "      <td>JUMBO BAG STRAWBERRY</td>\n",
       "      <td>1.74</td>\n",
       "      <td>16029</td>\n",
       "      <td>Store</td>\n",
       "      <td>NM</td>\n",
       "      <td>2011-11-01</td>\n",
       "      <td>1485.96</td>\n",
       "      <td>854</td>\n",
       "    </tr>\n",
       "    <tr>\n",
       "      <th>406825</th>\n",
       "      <td>573361</td>\n",
       "      <td>23263</td>\n",
       "      <td>SET OF 3 WOODEN HEART DECORATIONS</td>\n",
       "      <td>1.25</td>\n",
       "      <td>14456</td>\n",
       "      <td>Email</td>\n",
       "      <td>OH</td>\n",
       "      <td>2011-10-30</td>\n",
       "      <td>7.50</td>\n",
       "      <td>6</td>\n",
       "    </tr>\n",
       "    <tr>\n",
       "      <th>406826</th>\n",
       "      <td>565748</td>\n",
       "      <td>22739</td>\n",
       "      <td>RIBBON REEL CHRISTMAS SOCK BAUBLE</td>\n",
       "      <td>1.65</td>\n",
       "      <td>14156</td>\n",
       "      <td>Email</td>\n",
       "      <td>GA</td>\n",
       "      <td>2011-09-06</td>\n",
       "      <td>33.00</td>\n",
       "      <td>20</td>\n",
       "    </tr>\n",
       "    <tr>\n",
       "      <th>406827</th>\n",
       "      <td>577504</td>\n",
       "      <td>21733</td>\n",
       "      <td>RED HANGING HEART T-LIGHT HOLDER</td>\n",
       "      <td>2.95</td>\n",
       "      <td>14159</td>\n",
       "      <td>SEO</td>\n",
       "      <td>NY</td>\n",
       "      <td>2011-11-20</td>\n",
       "      <td>88.50</td>\n",
       "      <td>30</td>\n",
       "    </tr>\n",
       "    <tr>\n",
       "      <th>406828</th>\n",
       "      <td>554085</td>\n",
       "      <td>23208</td>\n",
       "      <td>LUNCH BAG VINTAGE LEAF DESIGN</td>\n",
       "      <td>1.65</td>\n",
       "      <td>16945</td>\n",
       "      <td>Organic Social</td>\n",
       "      <td>NC</td>\n",
       "      <td>2011-05-22</td>\n",
       "      <td>13.20</td>\n",
       "      <td>8</td>\n",
       "    </tr>\n",
       "  </tbody>\n",
       "</table>\n",
       "<p>406829 rows × 10 columns</p>\n",
       "</div>"
      ],
      "text/plain": [
       "       SalesOrder     SKU                        Description  UnitPrice  \\\n",
       "0          580636   22474            SPACEBOY TV DINNER TRAY       1.95   \n",
       "1          581426   70006           LOVE HEART POCKET WARMER       0.79   \n",
       "2          575063   22697    GREEN REGENCY TEACUP AND SAUCER       2.95   \n",
       "3          544065   20726                 LUNCH BAG WOODLAND       1.65   \n",
       "4          568896  85049E          SCANDINAVIAN REDS RIBBONS       1.25   \n",
       "...           ...     ...                                ...        ...   \n",
       "406824     573774  85099F               JUMBO BAG STRAWBERRY       1.74   \n",
       "406825     573361   23263  SET OF 3 WOODEN HEART DECORATIONS       1.25   \n",
       "406826     565748   22739  RIBBON REEL CHRISTMAS SOCK BAUBLE       1.65   \n",
       "406827     577504   21733   RED HANGING HEART T-LIGHT HOLDER       2.95   \n",
       "406828     554085   23208      LUNCH BAG VINTAGE LEAF DESIGN       1.65   \n",
       "\n",
       "        CustomerID         Channel State InvoiceDay    Sales  Quantity  \n",
       "0            16746         Mailing    IL 2011-12-05    31.20        16  \n",
       "1            17757  Organic Social    WA 2011-12-08     2.37         3  \n",
       "2            16764         Display    TX 2011-11-08     8.85         3  \n",
       "3            14346  Organic Social    TX 2011-02-15    13.20         8  \n",
       "4            16361           Store    NY 2011-09-29    52.50        42  \n",
       "...            ...             ...   ...        ...      ...       ...  \n",
       "406824       16029           Store    NM 2011-11-01  1485.96       854  \n",
       "406825       14456           Email    OH 2011-10-30     7.50         6  \n",
       "406826       14156           Email    GA 2011-09-06    33.00        20  \n",
       "406827       14159             SEO    NY 2011-11-20    88.50        30  \n",
       "406828       16945  Organic Social    NC 2011-05-22    13.20         8  \n",
       "\n",
       "[406829 rows x 10 columns]"
      ]
     },
     "execution_count": 3,
     "metadata": {},
     "output_type": "execute_result"
    }
   ],
   "source": [
    "df = pd.read_csv(\"ecom_data1.csv\", parse_dates=[\"InvoiceDay\"])\n",
    "df"
   ]
  },
  {
   "cell_type": "code",
   "execution_count": 4,
   "metadata": {},
   "outputs": [
    {
     "data": {
      "text/html": [
       "<div>\n",
       "<style scoped>\n",
       "    .dataframe tbody tr th:only-of-type {\n",
       "        vertical-align: middle;\n",
       "    }\n",
       "\n",
       "    .dataframe tbody tr th {\n",
       "        vertical-align: top;\n",
       "    }\n",
       "\n",
       "    .dataframe thead th {\n",
       "        text-align: right;\n",
       "    }\n",
       "</style>\n",
       "<table border=\"1\" class=\"dataframe\">\n",
       "  <thead>\n",
       "    <tr style=\"text-align: right;\">\n",
       "      <th></th>\n",
       "      <th>SalesOrder</th>\n",
       "      <th>CustomerID</th>\n",
       "      <th>Channel</th>\n",
       "      <th>InvoiceDay</th>\n",
       "      <th>Sales</th>\n",
       "    </tr>\n",
       "  </thead>\n",
       "  <tbody>\n",
       "    <tr>\n",
       "      <th>0</th>\n",
       "      <td>580636</td>\n",
       "      <td>16746</td>\n",
       "      <td>Mailing</td>\n",
       "      <td>2011-12-05</td>\n",
       "      <td>31.20</td>\n",
       "    </tr>\n",
       "    <tr>\n",
       "      <th>1</th>\n",
       "      <td>581426</td>\n",
       "      <td>17757</td>\n",
       "      <td>Organic Social</td>\n",
       "      <td>2011-12-08</td>\n",
       "      <td>2.37</td>\n",
       "    </tr>\n",
       "    <tr>\n",
       "      <th>2</th>\n",
       "      <td>575063</td>\n",
       "      <td>16764</td>\n",
       "      <td>Display</td>\n",
       "      <td>2011-11-08</td>\n",
       "      <td>8.85</td>\n",
       "    </tr>\n",
       "    <tr>\n",
       "      <th>3</th>\n",
       "      <td>544065</td>\n",
       "      <td>14346</td>\n",
       "      <td>Organic Social</td>\n",
       "      <td>2011-02-15</td>\n",
       "      <td>13.20</td>\n",
       "    </tr>\n",
       "    <tr>\n",
       "      <th>4</th>\n",
       "      <td>568896</td>\n",
       "      <td>16361</td>\n",
       "      <td>Store</td>\n",
       "      <td>2011-09-29</td>\n",
       "      <td>52.50</td>\n",
       "    </tr>\n",
       "    <tr>\n",
       "      <th>...</th>\n",
       "      <td>...</td>\n",
       "      <td>...</td>\n",
       "      <td>...</td>\n",
       "      <td>...</td>\n",
       "      <td>...</td>\n",
       "    </tr>\n",
       "    <tr>\n",
       "      <th>406824</th>\n",
       "      <td>573774</td>\n",
       "      <td>16029</td>\n",
       "      <td>Store</td>\n",
       "      <td>2011-11-01</td>\n",
       "      <td>1485.96</td>\n",
       "    </tr>\n",
       "    <tr>\n",
       "      <th>406825</th>\n",
       "      <td>573361</td>\n",
       "      <td>14456</td>\n",
       "      <td>Email</td>\n",
       "      <td>2011-10-30</td>\n",
       "      <td>7.50</td>\n",
       "    </tr>\n",
       "    <tr>\n",
       "      <th>406826</th>\n",
       "      <td>565748</td>\n",
       "      <td>14156</td>\n",
       "      <td>Email</td>\n",
       "      <td>2011-09-06</td>\n",
       "      <td>33.00</td>\n",
       "    </tr>\n",
       "    <tr>\n",
       "      <th>406827</th>\n",
       "      <td>577504</td>\n",
       "      <td>14159</td>\n",
       "      <td>SEO</td>\n",
       "      <td>2011-11-20</td>\n",
       "      <td>88.50</td>\n",
       "    </tr>\n",
       "    <tr>\n",
       "      <th>406828</th>\n",
       "      <td>554085</td>\n",
       "      <td>16945</td>\n",
       "      <td>Organic Social</td>\n",
       "      <td>2011-05-22</td>\n",
       "      <td>13.20</td>\n",
       "    </tr>\n",
       "  </tbody>\n",
       "</table>\n",
       "<p>406829 rows × 5 columns</p>\n",
       "</div>"
      ],
      "text/plain": [
       "       SalesOrder  CustomerID         Channel InvoiceDay    Sales\n",
       "0          580636       16746         Mailing 2011-12-05    31.20\n",
       "1          581426       17757  Organic Social 2011-12-08     2.37\n",
       "2          575063       16764         Display 2011-11-08     8.85\n",
       "3          544065       14346  Organic Social 2011-02-15    13.20\n",
       "4          568896       16361           Store 2011-09-29    52.50\n",
       "...           ...         ...             ...        ...      ...\n",
       "406824     573774       16029           Store 2011-11-01  1485.96\n",
       "406825     573361       14456           Email 2011-10-30     7.50\n",
       "406826     565748       14156           Email 2011-09-06    33.00\n",
       "406827     577504       14159             SEO 2011-11-20    88.50\n",
       "406828     554085       16945  Organic Social 2011-05-22    13.20\n",
       "\n",
       "[406829 rows x 5 columns]"
      ]
     },
     "execution_count": 4,
     "metadata": {},
     "output_type": "execute_result"
    }
   ],
   "source": [
    "df = df.drop(columns=['SKU', 'Description','State', 'Quantity', 'UnitPrice'])\n",
    "df"
   ]
  },
  {
   "cell_type": "code",
   "execution_count": 5,
   "metadata": {},
   "outputs": [
    {
     "name": "stdout",
     "output_type": "stream",
     "text": [
      "<class 'pandas.core.frame.DataFrame'>\n",
      "RangeIndex: 406829 entries, 0 to 406828\n",
      "Data columns (total 5 columns):\n",
      " #   Column      Non-Null Count   Dtype         \n",
      "---  ------      --------------   -----         \n",
      " 0   SalesOrder  406829 non-null  object        \n",
      " 1   CustomerID  406829 non-null  category      \n",
      " 2   Channel     406829 non-null  object        \n",
      " 3   InvoiceDay  406829 non-null  datetime64[ns]\n",
      " 4   Sales       406829 non-null  float64       \n",
      "dtypes: category(1), datetime64[ns](1), float64(1), object(2)\n",
      "memory usage: 13.4+ MB\n"
     ]
    }
   ],
   "source": [
    "df=df.astype({\"CustomerID\": \"category\"})\n",
    "df.info()"
   ]
  },
  {
   "cell_type": "code",
   "execution_count": 6,
   "metadata": {},
   "outputs": [],
   "source": [
    "df=df.sort_values([\"InvoiceDay\"])"
   ]
  },
  {
   "cell_type": "code",
   "execution_count": 7,
   "metadata": {},
   "outputs": [],
   "source": [
    "df= df[df.Sales > 0.00]"
   ]
  },
  {
   "cell_type": "code",
   "execution_count": null,
   "metadata": {},
   "outputs": [],
   "source": []
  },
  {
   "cell_type": "code",
   "execution_count": 9,
   "metadata": {},
   "outputs": [
    {
     "ename": "ModuleNotFoundError",
     "evalue": "No module named 'darts'",
     "output_type": "error",
     "traceback": [
      "\u001b[1;31m---------------------------------------------------------------------------\u001b[0m",
      "\u001b[1;31mModuleNotFoundError\u001b[0m                       Traceback (most recent call last)",
      "\u001b[1;32m<ipython-input-9-20d32e2aa774>\u001b[0m in \u001b[0;36m<module>\u001b[1;34m\u001b[0m\n\u001b[1;32m----> 1\u001b[1;33m \u001b[1;32mfrom\u001b[0m \u001b[0mdarts\u001b[0m \u001b[1;32mimport\u001b[0m \u001b[0mTimeSeries\u001b[0m\u001b[1;33m\u001b[0m\u001b[1;33m\u001b[0m\u001b[0m\n\u001b[0m\u001b[0;32m      2\u001b[0m \u001b[1;32mfrom\u001b[0m \u001b[0mdarts\u001b[0m\u001b[1;33m.\u001b[0m\u001b[0mmodels\u001b[0m \u001b[1;32mimport\u001b[0m \u001b[0mExponentialSmoothing\u001b[0m\u001b[1;33m\u001b[0m\u001b[1;33m\u001b[0m\u001b[0m\n\u001b[0;32m      3\u001b[0m \u001b[1;33m\u001b[0m\u001b[0m\n\u001b[0;32m      4\u001b[0m \u001b[1;33m\u001b[0m\u001b[0m\n\u001b[0;32m      5\u001b[0m \u001b[0mdf\u001b[0m\u001b[1;33m.\u001b[0m\u001b[0mdrop_duplicates\u001b[0m\u001b[1;33m(\u001b[0m\u001b[0msubset\u001b[0m\u001b[1;33m=\u001b[0m\u001b[1;33m[\u001b[0m\u001b[1;34m'InvoiceDay'\u001b[0m\u001b[1;33m]\u001b[0m\u001b[1;33m,\u001b[0m \u001b[0minplace\u001b[0m\u001b[1;33m=\u001b[0m\u001b[1;32mTrue\u001b[0m\u001b[1;33m)\u001b[0m\u001b[1;33m\u001b[0m\u001b[1;33m\u001b[0m\u001b[0m\n",
      "\u001b[1;31mModuleNotFoundError\u001b[0m: No module named 'darts'"
     ]
    }
   ],
   "source": [
    "from darts import TimeSeries\n",
    "from darts.models import ExponentialSmoothing\n",
    "\n",
    "\n",
    "df.drop_duplicates(subset=['InvoiceDay'], inplace=True)\n",
    "\n",
    "series = TimeSeries.from_dataframe(df, 'InvoiceDay', 'Beef(tonnes)').values\n",
    "\n",
    "train, val = series.split_before(pd.Timestamp('2010-12-01'))\n",
    "model = ExponentialSmoothing()\n",
    "model.fit(train)\n",
    "prediction = model.predict(len(val))\n",
    "\n",
    "series.plot(label='actual')\n",
    "prediction.plot(label='forecast', lw=2)\n",
    "plt.legend()"
   ]
  },
  {
   "cell_type": "code",
   "execution_count": null,
   "metadata": {},
   "outputs": [],
   "source": []
  },
  {
   "cell_type": "code",
   "execution_count": null,
   "metadata": {},
   "outputs": [],
   "source": []
  },
  {
   "cell_type": "code",
   "execution_count": null,
   "metadata": {},
   "outputs": [],
   "source": []
  },
  {
   "cell_type": "code",
   "execution_count": null,
   "metadata": {},
   "outputs": [],
   "source": [
    "\n",
    "\n",
    "# For simplicity I just take the target variable and the date\n",
    "df = df[['Sales', 'InvoiceDay']]\n",
    "\n",
    "# Log value\n",
    "df['log'] = np.log(df.Sales)\n",
    "\n",
    "# Add previous n-values\n",
    "for i in range(3):\n",
    "    \n",
    "    df[f'sales_log_{i+1}'] = df.Sales.shift(i+1)\n",
    "    \n",
    "    # For simplicity we drop the null values \n",
    "    df.dropna(inplace=True)\n",
    "    \n",
    "    df[f'log_sales_log_{i+1}'] = np.log(df[f'sales_log_{i+1}'])\n",
    "    \n",
    "    df[f'log_difference_{i+1}'] = df.log - df[f'log_sales_log_{i+1}']"
   ]
  },
  {
   "cell_type": "code",
   "execution_count": null,
   "metadata": {},
   "outputs": [],
   "source": [
    "df"
   ]
  },
  {
   "cell_type": "code",
   "execution_count": null,
   "metadata": {},
   "outputs": [],
   "source": [
    "from sklearn.model_selection import train_test_split\n",
    "from sklearn.ensemble import AdaBoostRegressor\n",
    "\n",
    "# Forecast difference of log values\n",
    "X, Y = df[['log_difference_2', 'log_difference_3']], df['log_difference_1']\n",
    "\n",
    "# Split in train-test\n",
    "X_train, X_test, Y_train, Y_test = train_test_split(X, Y, test_size=0.2, shuffle=False, random_state=0)\n",
    "\n",
    "# Initialize the estimator\n",
    "mdl_adaboost = AdaBoostRegressor(n_estimators=500, learning_rate=0.05)\n",
    "\n",
    "# Fit the data\n",
    "mdl_adaboost.fit(X_train, Y_train)\n",
    "\n",
    "# Make predictions\n",
    "pred = mdl_adaboost.predict(X_test)\n",
    "\n",
    "test_size = X_test.shape[0]"
   ]
  },
  {
   "cell_type": "code",
   "execution_count": null,
   "metadata": {},
   "outputs": [],
   "source": [
    "test_size = X_test.shape[0]\n",
    "plt.plot(list(range(test_size)), np.exp(df.tail(test_size).log_sales_log_1  + pred), label='predicted', color='red')\n",
    "plt.plot(list(range(test_size)), df.tail(test_size).Sales, label='real', color='blue')\n",
    "plt.legend(loc='best')\n",
    "plt.title('Predicted vs Real')"
   ]
  },
  {
   "cell_type": "code",
   "execution_count": null,
   "metadata": {},
   "outputs": [],
   "source": [
    "df = df.groupby(\"CustomerID\")\n",
    "df"
   ]
  },
  {
   "cell_type": "code",
   "execution_count": null,
   "metadata": {},
   "outputs": [],
   "source": [
    "#df.Sales.rolling(90).mean()"
   ]
  },
  {
   "cell_type": "code",
   "execution_count": null,
   "metadata": {},
   "outputs": [],
   "source": [
    "#df.rolling('90', min_periods=1)['Sales'].sum()\n",
    "df.resample('90D').mean().plot(figsize=(12,8), \n",
    "title=\"Forecast\",legend=True)"
   ]
  },
  {
   "cell_type": "code",
   "execution_count": null,
   "metadata": {},
   "outputs": [],
   "source": [
    "df.rolling('90D', min_periods=1)['Sales'].sum().plot(figsize=(12,8), \n",
    "title=\"Forecast\",legend=True)\n"
   ]
  },
  {
   "cell_type": "code",
   "execution_count": null,
   "metadata": {},
   "outputs": [],
   "source": [
    "#df.to_csv(r'prompt1.csv', index = False)"
   ]
  },
  {
   "cell_type": "code",
   "execution_count": null,
   "metadata": {
    "scrolled": false
   },
   "outputs": [],
   "source": [
    "dfg = df.groupby([\"CustomerID\"]).count().add_suffix(\"_count\")\n",
    "dfg.dropna(inplace=True)"
   ]
  },
  {
   "cell_type": "code",
   "execution_count": null,
   "metadata": {},
   "outputs": [],
   "source": [
    "dfg= dfg.set_index(\"InvoiceDay\")\n",
    "dfg"
   ]
  },
  {
   "cell_type": "code",
   "execution_count": null,
   "metadata": {},
   "outputs": [],
   "source": [
    "#dfg = dfg.reset_index().sort_values(\"InvoiceDay\")\n",
    "#dfg"
   ]
  },
  {
   "cell_type": "code",
   "execution_count": null,
   "metadata": {},
   "outputs": [],
   "source": [
    "dfg.resample('90D').mean().plot(figsize=(12,8), \n",
    "title=\"Pre-Forecast\",legend=True)"
   ]
  },
  {
   "cell_type": "code",
   "execution_count": null,
   "metadata": {},
   "outputs": [],
   "source": [
    "dfg.rolling('90', min_periods=1)['Sales'].sum().plot(figsize=(12,8), \n",
    "title=\"Pre-Forecast\",legend=True)"
   ]
  },
  {
   "cell_type": "code",
   "execution_count": null,
   "metadata": {},
   "outputs": [],
   "source": [
    "cust1 = dfg[dfg[\"CustomerID\"]==12347].sort_values(\"InvoiceDay\")\n",
    "cust1"
   ]
  },
  {
   "cell_type": "code",
   "execution_count": null,
   "metadata": {},
   "outputs": [],
   "source": [
    "#cust1.to_csv(r'cust1.csv', index = False)"
   ]
  },
  {
   "cell_type": "code",
   "execution_count": null,
   "metadata": {},
   "outputs": [],
   "source": [
    "cust1.plot(x=\"InvoiceDay\", y=\"Sales_count\")"
   ]
  },
  {
   "cell_type": "code",
   "execution_count": null,
   "metadata": {},
   "outputs": [],
   "source": [
    "cust1= cust1.set_index(\"InvoiceDay\")\n",
    "cust1"
   ]
  },
  {
   "cell_type": "code",
   "execution_count": null,
   "metadata": {},
   "outputs": [],
   "source": [
    "#cust1 = pd.to_datetime(cust1.index)"
   ]
  },
  {
   "cell_type": "code",
   "execution_count": null,
   "metadata": {},
   "outputs": [],
   "source": [
    "\n"
   ]
  },
  {
   "cell_type": "code",
   "execution_count": null,
   "metadata": {},
   "outputs": [],
   "source": [
    "#cust1 = pd.DataFrame(cust1, index=['2010-12-01', '2011-12-09'])\n",
    "#cust1.index = pd.PeriodIndex(cust1.index, freq='D')\n",
    "#cust1"
   ]
  },
  {
   "cell_type": "code",
   "execution_count": null,
   "metadata": {},
   "outputs": [],
   "source": [
    "#cust1= r.rolling"
   ]
  },
  {
   "cell_type": "code",
   "execution_count": null,
   "metadata": {},
   "outputs": [],
   "source": [
    "#cust1.index = df.resample(\"1d\").sum().fillna(0).rolling(window=90, min_periods=1).mean()\n",
    "cust1\n"
   ]
  },
  {
   "cell_type": "code",
   "execution_count": null,
   "metadata": {},
   "outputs": [],
   "source": [
    "#resampled=cust1.resample(\"90D\")\n",
    "resampled"
   ]
  },
  {
   "cell_type": "code",
   "execution_count": null,
   "metadata": {},
   "outputs": [],
   "source": []
  }
 ],
 "metadata": {
  "kernelspec": {
   "display_name": "PythonData",
   "language": "python",
   "name": "pythondata"
  },
  "language_info": {
   "codemirror_mode": {
    "name": "ipython",
    "version": 3
   },
   "file_extension": ".py",
   "mimetype": "text/x-python",
   "name": "python",
   "nbconvert_exporter": "python",
   "pygments_lexer": "ipython3",
   "version": "3.7.9"
  }
 },
 "nbformat": 4,
 "nbformat_minor": 4
}
